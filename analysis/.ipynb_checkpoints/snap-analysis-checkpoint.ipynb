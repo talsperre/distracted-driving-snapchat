{
 "cells": [
  {
   "cell_type": "markdown",
   "metadata": {},
   "source": [
    "# Snapchat Results Analysis"
   ]
  },
  {
   "cell_type": "markdown",
   "metadata": {},
   "source": [
    "### Importing Requisite Libraries"
   ]
  },
  {
   "cell_type": "code",
   "execution_count": 1,
   "metadata": {},
   "outputs": [],
   "source": [
    "import seaborn as sns\n",
    "import matplotlib.pyplot as plt\n",
    "import matplotlib\n",
    "from tqdm import tqdm\n",
    "\n",
    "import os\n",
    "import sys\n",
    "import csv\n",
    "import requests\n",
    "import time\n",
    "import json\n",
    "import numpy as np\n",
    "import pandas as pd\n",
    "\n",
    "from pprint import pprint\n",
    "from subprocess import call"
   ]
  },
  {
   "cell_type": "markdown",
   "metadata": {},
   "source": [
    "### Initializing Matplotlib"
   ]
  },
  {
   "cell_type": "code",
   "execution_count": null,
   "metadata": {},
   "outputs": [],
   "source": [
    "from __future__ import division, print_function\n",
    "# In a notebook environment, display the plots inline\n",
    "%matplotlib inline\n",
    "\n",
    "# Set some parameters to apply to all plots. These can be overridden\n",
    "# in each plot if desired\n",
    "# import matplotlib\n",
    "# Plot size to 14\" x 7\"\n",
    "matplotlib.rc('figure', figsize = (10, 8))\n",
    "# Font size to 14\n",
    "matplotlib.rc('font', size = 24)\n",
    "# Do not display top and right frame lines\n",
    "matplotlib.rc('axes.spines', top = False, right = False)\n",
    "# Remove grid lines\n",
    "matplotlib.rc('axes', grid = False)\n",
    "# Set backgound color to white\n",
    "matplotlib.rc('axes', facecolor = 'white')"
   ]
  },
  {
   "cell_type": "markdown",
   "metadata": {},
   "source": [
    "### Import prediction results data"
   ]
  },
  {
   "cell_type": "code",
   "execution_count": 2,
   "metadata": {},
   "outputs": [
    {
     "data": {
      "text/html": [
       "<div>\n",
       "<style scoped>\n",
       "    .dataframe tbody tr th:only-of-type {\n",
       "        vertical-align: middle;\n",
       "    }\n",
       "\n",
       "    .dataframe tbody tr th {\n",
       "        vertical-align: top;\n",
       "    }\n",
       "\n",
       "    .dataframe thead th {\n",
       "        text-align: right;\n",
       "    }\n",
       "</style>\n",
       "<table border=\"1\" class=\"dataframe\">\n",
       "  <thead>\n",
       "    <tr style=\"text-align: right;\">\n",
       "      <th></th>\n",
       "      <th>id</th>\n",
       "      <th>city</th>\n",
       "      <th>lat</th>\n",
       "      <th>lon</th>\n",
       "      <th>utc_timestamp</th>\n",
       "      <th>local_timestamp</th>\n",
       "      <th>scraped_date</th>\n",
       "      <th>duration</th>\n",
       "      <th>url</th>\n",
       "      <th>non_driving</th>\n",
       "      <th>local_date</th>\n",
       "      <th>local_time</th>\n",
       "      <th>local_hour</th>\n",
       "      <th>local_minute</th>\n",
       "      <th>local_second</th>\n",
       "      <th>local_weekday</th>\n",
       "      <th>local_day</th>\n",
       "    </tr>\n",
       "  </thead>\n",
       "  <tbody>\n",
       "    <tr>\n",
       "      <th>0</th>\n",
       "      <td>W7_EDlXWTBiXAEEniNoMPwAAY3AiPrLhH65pdAWmCqu4nA...</td>\n",
       "      <td>Delhi</td>\n",
       "      <td>28.674125</td>\n",
       "      <td>77.064029</td>\n",
       "      <td>1552674600000</td>\n",
       "      <td>2019-03-16 00:00:00</td>\n",
       "      <td>16_03_2019</td>\n",
       "      <td>9.296667</td>\n",
       "      <td>https://s.sc-cdn.net/c8AAKzM0ru6kt8ftIHTCod001...</td>\n",
       "      <td>1</td>\n",
       "      <td>2019-03-16</td>\n",
       "      <td>00:00:00</td>\n",
       "      <td>0</td>\n",
       "      <td>0</td>\n",
       "      <td>0</td>\n",
       "      <td>Saturday</td>\n",
       "      <td>16</td>\n",
       "    </tr>\n",
       "    <tr>\n",
       "      <th>1</th>\n",
       "      <td>W7_EDlXWTBiXAEEniNoMPwAAYmSj9OwxbeKXrAWmCqul9A...</td>\n",
       "      <td>Delhi</td>\n",
       "      <td>28.674125</td>\n",
       "      <td>77.064029</td>\n",
       "      <td>1552674600000</td>\n",
       "      <td>2019-03-16 00:00:00</td>\n",
       "      <td>16_03_2019</td>\n",
       "      <td>10.000000</td>\n",
       "      <td>https://s.sc-cdn.net/MoZ5SufxR6oQNk32WBYBu8o4Z...</td>\n",
       "      <td>1</td>\n",
       "      <td>2019-03-16</td>\n",
       "      <td>00:00:00</td>\n",
       "      <td>0</td>\n",
       "      <td>0</td>\n",
       "      <td>0</td>\n",
       "      <td>Saturday</td>\n",
       "      <td>16</td>\n",
       "    </tr>\n",
       "    <tr>\n",
       "      <th>2</th>\n",
       "      <td>W7_EDlXWTBiXAEEniNoMPwAAYmJ1wsiKtCM_uAWmDYGmiA...</td>\n",
       "      <td>Amman</td>\n",
       "      <td>31.953270</td>\n",
       "      <td>35.912186</td>\n",
       "      <td>1552687200000</td>\n",
       "      <td>2019-03-16 00:00:00</td>\n",
       "      <td>16_03_2019</td>\n",
       "      <td>10.000000</td>\n",
       "      <td>https://s.sc-cdn.net/FqdN13UMj9SOpvXTZAH_mp90-...</td>\n",
       "      <td>1</td>\n",
       "      <td>2019-03-16</td>\n",
       "      <td>00:00:00</td>\n",
       "      <td>0</td>\n",
       "      <td>0</td>\n",
       "      <td>0</td>\n",
       "      <td>Saturday</td>\n",
       "      <td>16</td>\n",
       "    </tr>\n",
       "    <tr>\n",
       "      <th>3</th>\n",
       "      <td>W7_EDlXWTBiXAEEniNoMPwAAY7tay4k7ISEREAWmCoJ7-A...</td>\n",
       "      <td>Mumbai</td>\n",
       "      <td>19.064640</td>\n",
       "      <td>72.871390</td>\n",
       "      <td>1552674600000</td>\n",
       "      <td>2019-03-16 00:00:00</td>\n",
       "      <td>16_03_2019</td>\n",
       "      <td>10.000000</td>\n",
       "      <td>https://s.sc-cdn.net/qH7cPflldGHu88ettD-GWS3Uq...</td>\n",
       "      <td>1</td>\n",
       "      <td>2019-03-16</td>\n",
       "      <td>00:00:00</td>\n",
       "      <td>0</td>\n",
       "      <td>0</td>\n",
       "      <td>0</td>\n",
       "      <td>Saturday</td>\n",
       "      <td>16</td>\n",
       "    </tr>\n",
       "    <tr>\n",
       "      <th>4</th>\n",
       "      <td>W7_EDlXWTBiXAEEniNoMPwAAY3VSbhsZ7kE2ZAWmCns9sA...</td>\n",
       "      <td>Mumbai</td>\n",
       "      <td>19.046673</td>\n",
       "      <td>72.899907</td>\n",
       "      <td>1552674600000</td>\n",
       "      <td>2019-03-16 00:00:00</td>\n",
       "      <td>16_03_2019</td>\n",
       "      <td>10.000000</td>\n",
       "      <td>https://s.sc-cdn.net/JI29SEAn7MWkkDtbsx70cDqES...</td>\n",
       "      <td>1</td>\n",
       "      <td>2019-03-16</td>\n",
       "      <td>00:00:00</td>\n",
       "      <td>0</td>\n",
       "      <td>0</td>\n",
       "      <td>0</td>\n",
       "      <td>Saturday</td>\n",
       "      <td>16</td>\n",
       "    </tr>\n",
       "  </tbody>\n",
       "</table>\n",
       "</div>"
      ],
      "text/plain": [
       "                                                  id    city        lat  \\\n",
       "0  W7_EDlXWTBiXAEEniNoMPwAAY3AiPrLhH65pdAWmCqu4nA...   Delhi  28.674125   \n",
       "1  W7_EDlXWTBiXAEEniNoMPwAAYmSj9OwxbeKXrAWmCqul9A...   Delhi  28.674125   \n",
       "2  W7_EDlXWTBiXAEEniNoMPwAAYmJ1wsiKtCM_uAWmDYGmiA...   Amman  31.953270   \n",
       "3  W7_EDlXWTBiXAEEniNoMPwAAY7tay4k7ISEREAWmCoJ7-A...  Mumbai  19.064640   \n",
       "4  W7_EDlXWTBiXAEEniNoMPwAAY3VSbhsZ7kE2ZAWmCns9sA...  Mumbai  19.046673   \n",
       "\n",
       "         lon  utc_timestamp      local_timestamp scraped_date   duration  \\\n",
       "0  77.064029  1552674600000  2019-03-16 00:00:00   16_03_2019   9.296667   \n",
       "1  77.064029  1552674600000  2019-03-16 00:00:00   16_03_2019  10.000000   \n",
       "2  35.912186  1552687200000  2019-03-16 00:00:00   16_03_2019  10.000000   \n",
       "3  72.871390  1552674600000  2019-03-16 00:00:00   16_03_2019  10.000000   \n",
       "4  72.899907  1552674600000  2019-03-16 00:00:00   16_03_2019  10.000000   \n",
       "\n",
       "                                                 url  non_driving  local_date  \\\n",
       "0  https://s.sc-cdn.net/c8AAKzM0ru6kt8ftIHTCod001...            1  2019-03-16   \n",
       "1  https://s.sc-cdn.net/MoZ5SufxR6oQNk32WBYBu8o4Z...            1  2019-03-16   \n",
       "2  https://s.sc-cdn.net/FqdN13UMj9SOpvXTZAH_mp90-...            1  2019-03-16   \n",
       "3  https://s.sc-cdn.net/qH7cPflldGHu88ettD-GWS3Uq...            1  2019-03-16   \n",
       "4  https://s.sc-cdn.net/JI29SEAn7MWkkDtbsx70cDqES...            1  2019-03-16   \n",
       "\n",
       "  local_time  local_hour  local_minute  local_second local_weekday  local_day  \n",
       "0   00:00:00           0             0             0      Saturday         16  \n",
       "1   00:00:00           0             0             0      Saturday         16  \n",
       "2   00:00:00           0             0             0      Saturday         16  \n",
       "3   00:00:00           0             0             0      Saturday         16  \n",
       "4   00:00:00           0             0             0      Saturday         16  "
      ]
     },
     "execution_count": 2,
     "metadata": {},
     "output_type": "execute_result"
    }
   ],
   "source": [
    "df = pd.read_csv(\"combined_v5.csv\")\n",
    "df.head()"
   ]
  },
  {
   "cell_type": "markdown",
   "metadata": {},
   "source": [
    "##### Compute data by class & hour"
   ]
  },
  {
   "cell_type": "code",
   "execution_count": 38,
   "metadata": {},
   "outputs": [
    {
     "data": {
      "text/html": [
       "<div>\n",
       "<style scoped>\n",
       "    .dataframe tbody tr th:only-of-type {\n",
       "        vertical-align: middle;\n",
       "    }\n",
       "\n",
       "    .dataframe tbody tr th {\n",
       "        vertical-align: top;\n",
       "    }\n",
       "\n",
       "    .dataframe thead th {\n",
       "        text-align: right;\n",
       "    }\n",
       "</style>\n",
       "<table border=\"1\" class=\"dataframe\">\n",
       "  <thead>\n",
       "    <tr style=\"text-align: right;\">\n",
       "      <th></th>\n",
       "      <th>non_driving</th>\n",
       "      <th>local_hour</th>\n",
       "      <th>count</th>\n",
       "    </tr>\n",
       "  </thead>\n",
       "  <tbody>\n",
       "    <tr>\n",
       "      <th>0</th>\n",
       "      <td>driving</td>\n",
       "      <td>0</td>\n",
       "      <td>81935</td>\n",
       "    </tr>\n",
       "    <tr>\n",
       "      <th>1</th>\n",
       "      <td>driving</td>\n",
       "      <td>1</td>\n",
       "      <td>64256</td>\n",
       "    </tr>\n",
       "    <tr>\n",
       "      <th>2</th>\n",
       "      <td>driving</td>\n",
       "      <td>2</td>\n",
       "      <td>49212</td>\n",
       "    </tr>\n",
       "    <tr>\n",
       "      <th>3</th>\n",
       "      <td>driving</td>\n",
       "      <td>3</td>\n",
       "      <td>34322</td>\n",
       "    </tr>\n",
       "    <tr>\n",
       "      <th>4</th>\n",
       "      <td>driving</td>\n",
       "      <td>4</td>\n",
       "      <td>21259</td>\n",
       "    </tr>\n",
       "  </tbody>\n",
       "</table>\n",
       "</div>"
      ],
      "text/plain": [
       "  non_driving  local_hour  count\n",
       "0     driving           0  81935\n",
       "1     driving           1  64256\n",
       "2     driving           2  49212\n",
       "3     driving           3  34322\n",
       "4     driving           4  21259"
      ]
     },
     "execution_count": 38,
     "metadata": {},
     "output_type": "execute_result"
    }
   ],
   "source": [
    "data = df.groupby(['non_driving', 'local_hour']).count()['id'].reset_index()\n",
    "\n",
    "data.rename(columns={'id': 'count'}, inplace=True)\n",
    "data.non_driving.replace(0, 'driving', inplace=True)\n",
    "data.non_driving.replace(1, 'non-driving', inplace=True)\n",
    "data.head()"
   ]
  },
  {
   "cell_type": "code",
   "execution_count": 42,
   "metadata": {},
   "outputs": [
    {
     "data": {
      "text/plain": [
       "array([[ 81935, 231464],\n",
       "       [ 64256, 191337],\n",
       "       [ 49212, 132524],\n",
       "       [ 34322,  81808],\n",
       "       [ 21259,  49673],\n",
       "       [ 19952,  40451],\n",
       "       [ 36214,  56197],\n",
       "       [ 46024,  75695],\n",
       "       [ 43962,  98167],\n",
       "       [ 46085, 129073],\n",
       "       [ 50940, 164400],\n",
       "       [ 57933, 194310],\n",
       "       [ 58806, 211742],\n",
       "       [ 68355, 236904],\n",
       "       [ 74139, 247603],\n",
       "       [ 64073, 238103],\n",
       "       [ 73780, 252610],\n",
       "       [ 89399, 288834],\n",
       "       [ 82655, 311395],\n",
       "       [ 81502, 329552],\n",
       "       [ 80421, 347832],\n",
       "       [ 99634, 377141],\n",
       "       [100303, 357780],\n",
       "       [ 90189, 271608]])"
      ]
     },
     "execution_count": 42,
     "metadata": {},
     "output_type": "execute_result"
    }
   ],
   "source": [
    "hours_list = [[0, 0] for a in range(24)]\n",
    "for i, row in data.iterrows():\n",
    "    hour = row[\"local_hour\"]\n",
    "    if row[\"non_driving\"] == \"driving\":\n",
    "        hours_list[hour][0] = row[\"count\"]\n",
    "    else:\n",
    "        hours_list[hour][1] = row[\"count\"]\n",
    "\n",
    "hours_list = np.array(hours_list)\n",
    "hours_list"
   ]
  },
  {
   "cell_type": "code",
   "execution_count": 43,
   "metadata": {},
   "outputs": [
    {
     "data": {
      "text/plain": [
       "array([[1.        , 0.95451707],\n",
       "       [0.95451707, 1.        ]])"
      ]
     },
     "execution_count": 43,
     "metadata": {},
     "output_type": "execute_result"
    }
   ],
   "source": [
    "np.corrcoef(hours_list[:, 0], hours_list[:, 1])"
   ]
  },
  {
   "cell_type": "markdown",
   "metadata": {},
   "source": [
    "#### Compute daytime and night-time driving ratio"
   ]
  },
  {
   "cell_type": "code",
   "execution_count": 25,
   "metadata": {},
   "outputs": [
    {
     "data": {
      "text/html": [
       "<div>\n",
       "<style scoped>\n",
       "    .dataframe tbody tr th:only-of-type {\n",
       "        vertical-align: middle;\n",
       "    }\n",
       "\n",
       "    .dataframe tbody tr th {\n",
       "        vertical-align: top;\n",
       "    }\n",
       "\n",
       "    .dataframe thead th {\n",
       "        text-align: right;\n",
       "    }\n",
       "</style>\n",
       "<table border=\"1\" class=\"dataframe\">\n",
       "  <thead>\n",
       "    <tr style=\"text-align: right;\">\n",
       "      <th></th>\n",
       "      <th>non_driving</th>\n",
       "      <th>local_hour</th>\n",
       "      <th>count</th>\n",
       "    </tr>\n",
       "  </thead>\n",
       "  <tbody>\n",
       "    <tr>\n",
       "      <th>0</th>\n",
       "      <td>driving</td>\n",
       "      <td>0</td>\n",
       "      <td>81935</td>\n",
       "    </tr>\n",
       "    <tr>\n",
       "      <th>1</th>\n",
       "      <td>driving</td>\n",
       "      <td>1</td>\n",
       "      <td>64256</td>\n",
       "    </tr>\n",
       "    <tr>\n",
       "      <th>2</th>\n",
       "      <td>driving</td>\n",
       "      <td>2</td>\n",
       "      <td>49212</td>\n",
       "    </tr>\n",
       "    <tr>\n",
       "      <th>18</th>\n",
       "      <td>driving</td>\n",
       "      <td>18</td>\n",
       "      <td>82655</td>\n",
       "    </tr>\n",
       "    <tr>\n",
       "      <th>19</th>\n",
       "      <td>driving</td>\n",
       "      <td>19</td>\n",
       "      <td>81502</td>\n",
       "    </tr>\n",
       "  </tbody>\n",
       "</table>\n",
       "</div>"
      ],
      "text/plain": [
       "   non_driving  local_hour  count\n",
       "0      driving           0  81935\n",
       "1      driving           1  64256\n",
       "2      driving           2  49212\n",
       "18     driving          18  82655\n",
       "19     driving          19  81502"
      ]
     },
     "execution_count": 25,
     "metadata": {},
     "output_type": "execute_result"
    }
   ],
   "source": [
    "new_data = data[(data[\"non_driving\"] == \"driving\") & ((data[\"local_hour\"] >= 18) | ((data[\"local_hour\"] >= 0) & (data[\"local_hour\"] <= 2)))]\n",
    "new_data.head()"
   ]
  },
  {
   "cell_type": "markdown",
   "metadata": {},
   "source": [
    "#### Compute daytime and nigh-time ratio for all snaps"
   ]
  },
  {
   "cell_type": "code",
   "execution_count": 28,
   "metadata": {},
   "outputs": [
    {
     "data": {
      "text/html": [
       "<div>\n",
       "<style scoped>\n",
       "    .dataframe tbody tr th:only-of-type {\n",
       "        vertical-align: middle;\n",
       "    }\n",
       "\n",
       "    .dataframe tbody tr th {\n",
       "        vertical-align: top;\n",
       "    }\n",
       "\n",
       "    .dataframe thead th {\n",
       "        text-align: right;\n",
       "    }\n",
       "</style>\n",
       "<table border=\"1\" class=\"dataframe\">\n",
       "  <thead>\n",
       "    <tr style=\"text-align: right;\">\n",
       "      <th></th>\n",
       "      <th>local_hour</th>\n",
       "      <th>count</th>\n",
       "    </tr>\n",
       "  </thead>\n",
       "  <tbody>\n",
       "    <tr>\n",
       "      <th>0</th>\n",
       "      <td>0</td>\n",
       "      <td>313399</td>\n",
       "    </tr>\n",
       "    <tr>\n",
       "      <th>1</th>\n",
       "      <td>1</td>\n",
       "      <td>255593</td>\n",
       "    </tr>\n",
       "    <tr>\n",
       "      <th>2</th>\n",
       "      <td>2</td>\n",
       "      <td>181736</td>\n",
       "    </tr>\n",
       "    <tr>\n",
       "      <th>3</th>\n",
       "      <td>3</td>\n",
       "      <td>116130</td>\n",
       "    </tr>\n",
       "    <tr>\n",
       "      <th>4</th>\n",
       "      <td>4</td>\n",
       "      <td>70932</td>\n",
       "    </tr>\n",
       "  </tbody>\n",
       "</table>\n",
       "</div>"
      ],
      "text/plain": [
       "   local_hour   count\n",
       "0           0  313399\n",
       "1           1  255593\n",
       "2           2  181736\n",
       "3           3  116130\n",
       "4           4   70932"
      ]
     },
     "execution_count": 28,
     "metadata": {},
     "output_type": "execute_result"
    }
   ],
   "source": [
    "data = df.groupby(['local_hour']).count()['id'].reset_index()\n",
    "\n",
    "data.rename(columns={'id': 'count'}, inplace=True)\n",
    "data.head()"
   ]
  },
  {
   "cell_type": "code",
   "execution_count": 30,
   "metadata": {},
   "outputs": [
    {
     "data": {
      "text/html": [
       "<div>\n",
       "<style scoped>\n",
       "    .dataframe tbody tr th:only-of-type {\n",
       "        vertical-align: middle;\n",
       "    }\n",
       "\n",
       "    .dataframe tbody tr th {\n",
       "        vertical-align: top;\n",
       "    }\n",
       "\n",
       "    .dataframe thead th {\n",
       "        text-align: right;\n",
       "    }\n",
       "</style>\n",
       "<table border=\"1\" class=\"dataframe\">\n",
       "  <thead>\n",
       "    <tr style=\"text-align: right;\">\n",
       "      <th></th>\n",
       "      <th>local_hour</th>\n",
       "      <th>count</th>\n",
       "    </tr>\n",
       "  </thead>\n",
       "  <tbody>\n",
       "    <tr>\n",
       "      <th>0</th>\n",
       "      <td>0</td>\n",
       "      <td>313399</td>\n",
       "    </tr>\n",
       "    <tr>\n",
       "      <th>1</th>\n",
       "      <td>1</td>\n",
       "      <td>255593</td>\n",
       "    </tr>\n",
       "    <tr>\n",
       "      <th>2</th>\n",
       "      <td>2</td>\n",
       "      <td>181736</td>\n",
       "    </tr>\n",
       "    <tr>\n",
       "      <th>18</th>\n",
       "      <td>18</td>\n",
       "      <td>394050</td>\n",
       "    </tr>\n",
       "    <tr>\n",
       "      <th>19</th>\n",
       "      <td>19</td>\n",
       "      <td>411054</td>\n",
       "    </tr>\n",
       "  </tbody>\n",
       "</table>\n",
       "</div>"
      ],
      "text/plain": [
       "    local_hour   count\n",
       "0            0  313399\n",
       "1            1  255593\n",
       "2            2  181736\n",
       "18          18  394050\n",
       "19          19  411054"
      ]
     },
     "execution_count": 30,
     "metadata": {},
     "output_type": "execute_result"
    }
   ],
   "source": [
    "new_data = data[(data[\"local_hour\"] >= 18) | ((data[\"local_hour\"] >= 0) & (data[\"local_hour\"] <= 2))]\n",
    "new_data.head()"
   ]
  },
  {
   "cell_type": "code",
   "execution_count": null,
   "metadata": {},
   "outputs": [],
   "source": [
    "sns.set(font_scale=1.5)\n",
    "sns.set_style(\"whitegrid\", {'axes.grid' : False})\n",
    "\n",
    "ax = sns.lmplot(data=data, x='local_hour', y='count', hue='non_driving', \n",
    "               fit_reg=True, order=3, legend=False, markers=['x', 'o'], height=7, aspect=1.2)\n",
    "ax.set(xlabel='Hour of the day', ylabel='Number of Snaps')\n",
    "plt.legend(loc='upper left')\n",
    "plt.xlim([0, 24])\n",
    "\n",
    "ax.set(yticks=[100000, 200000, 300000, 400000, 500000], yticklabels=['100k', '200k', '300k', '400k', '500k'])\n",
    "\n",
    "ax.savefig('plots/diurnal.png', dpi=200, bbox_inches='tight')"
   ]
  },
  {
   "cell_type": "markdown",
   "metadata": {},
   "source": [
    "### Day of the week analysis"
   ]
  },
  {
   "cell_type": "code",
   "execution_count": null,
   "metadata": {},
   "outputs": [],
   "source": [
    "num_saturdays = 5\n",
    "num_sundays = 5\n",
    "num_mondays = 5\n",
    "num_tuesdays = 4\n",
    "num_wednesdays = 4 \n",
    "num_thursdays = 4\n",
    "num_fridays = 4"
   ]
  },
  {
   "cell_type": "code",
   "execution_count": null,
   "metadata": {},
   "outputs": [],
   "source": [
    "data = df.groupby(['non_driving', 'local_weekday']).count()['id'].reset_index()\n",
    "\n",
    "data.rename(columns={'id': 'count'}, inplace=True)\n",
    "data.non_driving.replace(0, 'driving', inplace=True)\n",
    "data.non_driving.replace(1, 'non-driving', inplace=True)\n",
    "data.head(-1)"
   ]
  },
  {
   "cell_type": "code",
   "execution_count": null,
   "metadata": {},
   "outputs": [],
   "source": [
    "for i, row in data.iterrows():\n",
    "    local_weekday = row['local_weekday']\n",
    "    count = row['count']\n",
    "    if local_weekday in [\"Friday\", \"Thursday\", \"Wednesday\", \"Tuesday\"]:\n",
    "        data.at[i, 'count'] = count / 4\n",
    "    else:\n",
    "        data.at[i, 'count'] = count / 5\n",
    "data.head()"
   ]
  },
  {
   "cell_type": "code",
   "execution_count": null,
   "metadata": {},
   "outputs": [],
   "source": [
    "a4_dims = (11.7, 8.27)\n",
    "sns.set(rc={'figure.figsize':a4_dims}, font_scale=1.5)\n",
    "sns.set_style(\"whitegrid\", {'axes.grid' : False})\n",
    "\n",
    "ax = sns.barplot(x=\"local_weekday\", y=\"count\", hue=\"non_driving\", data=data)\n",
    "\n",
    "ax.set(xlabel='Day of the Week', ylabel='Number of Snaps')\n",
    "plt.legend(loc='upper left')\n",
    "\n",
    "plt.savefig('/home/shashanks/Projects/analysis/dayodtheweek.png')"
   ]
  },
  {
   "cell_type": "markdown",
   "metadata": {},
   "source": [
    "### Day of the month analysis"
   ]
  },
  {
   "cell_type": "code",
   "execution_count": null,
   "metadata": {},
   "outputs": [],
   "source": [
    "data = df.groupby(['non_driving', 'local_day']).count()['id'].reset_index()\n",
    "\n",
    "data.rename(columns={'id': 'count'}, inplace=True)\n",
    "data.non_driving.replace(0, 'driving', inplace=True)\n",
    "data.non_driving.replace(1, 'non-driving', inplace=True)\n",
    "data.head()"
   ]
  },
  {
   "cell_type": "code",
   "execution_count": null,
   "metadata": {},
   "outputs": [],
   "source": [
    "a4_dims = (20, 8.27)\n",
    "sns.set(rc={'figure.figsize':a4_dims}, font_scale=1.5)\n",
    "sns.set_style(\"whitegrid\", {'axes.grid' : False})\n",
    "order = sorted(range(1, 32))\n",
    "\n",
    "ax = sns.barplot(x=\"local_day\", y=\"count\", hue=\"non_driving\", data=data, order=order)\n",
    "ax.set(xlabel='Day of the Month', ylabel='Number of Snaps')\n",
    "plt.legend(loc='upper left')\n",
    "plt.savefig('/home/shashanks/Projects/analysis/dayodthemoth.png')"
   ]
  },
  {
   "cell_type": "markdown",
   "metadata": {},
   "source": [
    "##### Add secondary computations by various metrics"
   ]
  },
  {
   "cell_type": "code",
   "execution_count": null,
   "metadata": {},
   "outputs": [],
   "source": [
    "data = df.groupby(['non_driving', 'local_hour']).count()['id'].unstack(level=0)\n",
    "\n",
    "# data.rename(index={'0': 'driving', '1': 'non-driving'}, inplace=True)\n",
    "data['driving_percent_class'] = data.ix[:,0:].sum(axis=1)/np.sum(data.ix[:,0:].values) * 100\n",
    "data['non_driving_percent_class'] = data.ix[:,1:].sum(axis=1)/np.sum(data.ix[:,1:].values) * 100\n",
    "data['driving_percent_overall'] = data[0] * 100 / len(df)\n",
    "data['non_driving_percent_overall'] = data[1] * 100 / len(df)\n",
    "data['driving_percent_hourly'] = data[0] * 100 / (data[0] + data[1])\n",
    "data['non_driving_percent_hourly'] = data[1] * 100 / (data[0] + data[1])\n",
    "\n",
    "data.reset_index(level=0, inplace=True)\n",
    "data"
   ]
  },
  {
   "cell_type": "code",
   "execution_count": null,
   "metadata": {},
   "outputs": [],
   "source": [
    "percent_class = data[['driving_percent_class', 'non_driving_percent_class']].unstack(level=1).reset_index()\n",
    "percent_class.rename(columns={'level_1': 'hour', 0: 'percent'}, inplace=True)\n",
    "\n",
    "ax = sns.lmplot(data=percent_class, x='hour', y='percent', hue='non_driving', \n",
    "               fit_reg=True, order=3, legend=False, markers=['x', 'o'])\n",
    "ax.set(xlabel='Hour of the day', ylabel='Percent Class-wise')\n",
    "plt.legend(loc='upper left')\n",
    "ax.savefig('/home/shashanks/Projects/analysis/percent-class-wise.png')"
   ]
  },
  {
   "cell_type": "code",
   "execution_count": null,
   "metadata": {},
   "outputs": [],
   "source": [
    "sns.set_style(\"whitegrid\", {'axes.grid' : False})\n",
    "ax = data[['driving_percent_hourly', 'non_driving_percent_hourly']].plot(kind='bar', stacked=True)\n",
    "plt.legend(loc='upper left')\n",
    "plt.legend(bbox_to_anchor=(0., 1.02, 1., .102), loc=3,\n",
    "           ncol=2, mode=\"expand\", borderaxespad=0.)"
   ]
  },
  {
   "cell_type": "code",
   "execution_count": null,
   "metadata": {},
   "outputs": [],
   "source": [
    "percent_class = data[['driving_percent_hourly', 'non_driving_percent_hourly']].unstack(level=1).reset_index()\n",
    "percent_class.rename(columns={'level_1': 'hour', 0: 'percent'}, inplace=True)\n",
    "\n",
    "ax = sns.lmplot(data=percent_class, x='hour', y='percent', hue='non_driving', \n",
    "               fit_reg=True, order=3, legend=False, markers=['x', 'o'])\n",
    "\n",
    "plt.legend(loc='upper left')\n",
    "plt.legend(bbox_to_anchor=(0., 1.02, 1., .102), loc=3,\n",
    "           ncol=1, mode=\"expand\", borderaxespad=0.)\n",
    "ax.savefig('/home/shashanks/Projects/analysis/percent-hourly.png', dpi=300)"
   ]
  },
  {
   "cell_type": "code",
   "execution_count": null,
   "metadata": {},
   "outputs": [],
   "source": [
    "percent_class = data[['driving_percent_overall', 'non_driving_percent_overall']].unstack(level=1).reset_index()\n",
    "percent_class.rename(columns={'level_1': 'hour', 0: 'value'}, inplace=True)\n",
    "percent_class.columns = ['non_driving', 'hour', 'percent']\n",
    "percent_class.columns\n",
    "\n",
    "ax = sns.lmplot(data=percent_class, x='hour', y='percent', hue='non_driving', \n",
    "               fit_reg=True, order=3, legend=False, markers=['x', 'o'])\n",
    "ax.set(xlabel='Hour of the day', ylabel='Percent Overall')\n",
    "plt.legend(loc='upper left')\n",
    "ax.savefig('/home/shashanks/Projects/analysis/percent-overall.png')"
   ]
  },
  {
   "cell_type": "markdown",
   "metadata": {},
   "source": [
    "### City analysis"
   ]
  },
  {
   "cell_type": "code",
   "execution_count": 44,
   "metadata": {},
   "outputs": [
    {
     "data": {
      "text/html": [
       "<div>\n",
       "<style scoped>\n",
       "    .dataframe tbody tr th:only-of-type {\n",
       "        vertical-align: middle;\n",
       "    }\n",
       "\n",
       "    .dataframe tbody tr th {\n",
       "        vertical-align: top;\n",
       "    }\n",
       "\n",
       "    .dataframe thead th {\n",
       "        text-align: right;\n",
       "    }\n",
       "</style>\n",
       "<table border=\"1\" class=\"dataframe\">\n",
       "  <thead>\n",
       "    <tr style=\"text-align: right;\">\n",
       "      <th>non_driving</th>\n",
       "      <th>city</th>\n",
       "      <th>0</th>\n",
       "      <th>1</th>\n",
       "      <th>driving_percent</th>\n",
       "    </tr>\n",
       "  </thead>\n",
       "  <tbody>\n",
       "    <tr>\n",
       "      <th>39</th>\n",
       "      <td>Chandigarh</td>\n",
       "      <td>9320</td>\n",
       "      <td>12437</td>\n",
       "      <td>0.428368</td>\n",
       "    </tr>\n",
       "    <tr>\n",
       "      <th>8</th>\n",
       "      <td>Amritsar</td>\n",
       "      <td>6472</td>\n",
       "      <td>9180</td>\n",
       "      <td>0.413493</td>\n",
       "    </tr>\n",
       "    <tr>\n",
       "      <th>143</th>\n",
       "      <td>Riyadh</td>\n",
       "      <td>398276</td>\n",
       "      <td>599051</td>\n",
       "      <td>0.399343</td>\n",
       "    </tr>\n",
       "    <tr>\n",
       "      <th>14</th>\n",
       "      <td>Baghdad</td>\n",
       "      <td>37522</td>\n",
       "      <td>59074</td>\n",
       "      <td>0.388443</td>\n",
       "    </tr>\n",
       "    <tr>\n",
       "      <th>3</th>\n",
       "      <td>Ahmedabad</td>\n",
       "      <td>4444</td>\n",
       "      <td>7372</td>\n",
       "      <td>0.376100</td>\n",
       "    </tr>\n",
       "  </tbody>\n",
       "</table>\n",
       "</div>"
      ],
      "text/plain": [
       "non_driving        city       0       1  driving_percent\n",
       "39           Chandigarh    9320   12437         0.428368\n",
       "8              Amritsar    6472    9180         0.413493\n",
       "143              Riyadh  398276  599051         0.399343\n",
       "14              Baghdad   37522   59074         0.388443\n",
       "3             Ahmedabad    4444    7372         0.376100"
      ]
     },
     "execution_count": 44,
     "metadata": {},
     "output_type": "execute_result"
    }
   ],
   "source": [
    "city_data = df.groupby(['non_driving', 'city']).count()['id'].unstack(level=0)\n",
    "city_data.reset_index(level=0, inplace=True)\n",
    "city_data['driving_percent'] = city_data[0] / (city_data[0] + city_data[1])\n",
    "city_data = city_data.sort_values(by=['driving_percent'], ascending=False)\n",
    "city_data = city_data[city_data[\"driving_percent\"] >= 0.197]\n",
    "city_data.head()"
   ]
  },
  {
   "cell_type": "code",
   "execution_count": null,
   "metadata": {},
   "outputs": [],
   "source": [
    "x, y = [], []\n",
    "for i, row in city_data.iterrows():\n",
    "    x.append(row['city'])\n",
    "    y.append(row['driving_percent'])"
   ]
  },
  {
   "cell_type": "code",
   "execution_count": null,
   "metadata": {},
   "outputs": [],
   "source": [
    "a4_dims = (20, 10)\n",
    "plt.figure(figsize=a4_dims)\n",
    "plt.style.use('seaborn-white')\n",
    "\n",
    "y_pos = range(len(x))\n",
    "\n",
    "ax = plt.bar(x=y_pos, height=y)\n",
    "plt.xlabel('City', fontsize=24)\n",
    "plt.ylabel('Percentage of Driving Snaps', fontsize=24)\n",
    "plt.xticks(y_pos, x, rotation=90, fontsize=24)\n",
    "plt.yticks(fontsize=24)\n",
    "plt.xlim([-1, 30])\n",
    "plt.savefig('plots/city-percent.png', dpi=200, bbox_inches=\"tight\")"
   ]
  },
  {
   "cell_type": "markdown",
   "metadata": {},
   "source": [
    "### Grid center data and analysis"
   ]
  },
  {
   "cell_type": "code",
   "execution_count": null,
   "metadata": {},
   "outputs": [],
   "source": [
    "grid_csv = pd.read_csv('grid_center.csv')\n",
    "grid_csv.shape"
   ]
  },
  {
   "cell_type": "code",
   "execution_count": null,
   "metadata": {},
   "outputs": [],
   "source": [
    "grid_csv.head()"
   ]
  },
  {
   "cell_type": "code",
   "execution_count": null,
   "metadata": {},
   "outputs": [],
   "source": [
    "grid_data = df.groupby(['lat', 'lon']).count()['id'].reset_index()\n",
    "grid_data.rename(columns={'id': 'snap_count'}, inplace=True)\n",
    "grid_data.head()"
   ]
  },
  {
   "cell_type": "code",
   "execution_count": null,
   "metadata": {},
   "outputs": [],
   "source": [
    "driving_grid_data = df[df.non_driving == 0].groupby(['lat', 'lon']).count()['id'].reset_index()\n",
    "driving_grid_data.rename(columns={'id': 'driving_count'}, inplace=True)\n",
    "driving_grid_data.head()"
   ]
  },
  {
   "cell_type": "code",
   "execution_count": null,
   "metadata": {},
   "outputs": [],
   "source": [
    "grid_data = pd.merge(grid_data, driving_grid_data, on=['lat', 'lon'], how='left')\n",
    "grid_data.driving_count.fillna(0.0, inplace=True)\n",
    "grid_data.sum()"
   ]
  },
  {
   "cell_type": "code",
   "execution_count": null,
   "metadata": {},
   "outputs": [],
   "source": [
    "grid_data.head()"
   ]
  },
  {
   "cell_type": "code",
   "execution_count": null,
   "metadata": {},
   "outputs": [],
   "source": [
    "grid_data = grid_data.merge(df[['city', 'lat', 'lon']].drop_duplicates(), on=['lat', 'lon'], how='left')\n",
    "grid_data.head()"
   ]
  },
  {
   "cell_type": "code",
   "execution_count": null,
   "metadata": {},
   "outputs": [],
   "source": [
    "grid_data_new = grid_data\n",
    "grid_data_new['driving_tile_percent'] = grid_data_new.driving_count * 100 / grid_data_new.snap_count\n",
    "grid_data_new['snap_city_percent'] = grid_data_new.snap_count * 100 / grid_data_new.groupby('city').snap_count.transform('sum')\n",
    "grid_data_new['driving_city_percent'] = grid_data_new.driving_count * 100 / grid_data_new.groupby('city').driving_count.transform('sum')"
   ]
  },
  {
   "cell_type": "code",
   "execution_count": null,
   "metadata": {},
   "outputs": [],
   "source": [
    "grid_data_new = grid_data_new[['city', 'lat', 'lon', 'snap_count', 'driving_count', 'driving_tile_percent', 'snap_city_percent', 'driving_city_percent']]\n",
    "grid_data_new.head()"
   ]
  },
  {
   "cell_type": "code",
   "execution_count": null,
   "metadata": {},
   "outputs": [],
   "source": [
    "grid_data_new.to_csv(\"grid_data.csv\", index=False)"
   ]
  },
  {
   "cell_type": "code",
   "execution_count": null,
   "metadata": {},
   "outputs": [],
   "source": [
    "num_zero_tiles = grid_csv.groupby('city').tile_number.count() - grid_data.groupby('city').snap_count.count()\n",
    "num_zero_tiles = num_zero_tiles.reset_index()\n",
    "num_zero_tiles.rename(columns={0: \"num_zero\"}, inplace=True)\n",
    "num_zero_tiles.fillna(0.0, inplace=True)\n",
    "num_zero_tiles.head()"
   ]
  },
  {
   "cell_type": "code",
   "execution_count": null,
   "metadata": {},
   "outputs": [],
   "source": [
    "ax = sns.lmplot(data=grid_data, x='snap_count', y='driving_count', \\\n",
    "                legend=False, markers='o', fit_reg=True, order=2, scatter_kws={\"s\":1})\n",
    "# ax.set(xscale=\"log\", yscale=\"log\")\n",
    "ax.set(xlabel='Number of Snaps', ylabel='Number of Driving Snaps')"
   ]
  },
  {
   "cell_type": "markdown",
   "metadata": {},
   "source": [
    "### Heatmap"
   ]
  },
  {
   "cell_type": "code",
   "execution_count": null,
   "metadata": {},
   "outputs": [],
   "source": [
    "import folium"
   ]
  },
  {
   "cell_type": "code",
   "execution_count": null,
   "metadata": {},
   "outputs": [],
   "source": [
    "def generateBaseMap(default_location=[40.6452228,-74.015037], default_zoom_start=10):\n",
    "    base_map = folium.Map(location=default_location, control_scale=True, zoom_start=default_zoom_start)\n",
    "    return base_map"
   ]
  },
  {
   "cell_type": "markdown",
   "metadata": {},
   "source": [
    "#### New York"
   ]
  },
  {
   "cell_type": "code",
   "execution_count": null,
   "metadata": {},
   "outputs": [],
   "source": [
    "from folium.plugins import HeatMap\n",
    "new_york_df = df[df.city == \"New York\"]\n",
    "base_map = generateBaseMap()\n",
    "HeatMap(data=new_york_df[['lat', 'lon', 'non_driving']].groupby(['lat', 'lon']).sum().reset_index().values.tolist(), radius=8, max_zoom=10).add_to(base_map)\n",
    "base_map"
   ]
  },
  {
   "cell_type": "code",
   "execution_count": null,
   "metadata": {},
   "outputs": [],
   "source": [
    "new_york_df = df[(df.city == \"New York\") & (df.non_driving == 0)]\n",
    "base_map = generateBaseMap()\n",
    "HeatMap(data=new_york_df[['lat', 'lon', 'non_driving']].groupby(['lat', 'lon']).count().reset_index().values.tolist(), radius=8, max_zoom=10).add_to(base_map)\n",
    "base_map"
   ]
  },
  {
   "cell_type": "markdown",
   "metadata": {},
   "source": [
    "#### Riyadh"
   ]
  },
  {
   "cell_type": "code",
   "execution_count": null,
   "metadata": {},
   "outputs": [],
   "source": [
    "city_df = df[(df.city == \"Riyadh\") & (df.non_driving == 0)]\n",
    "base_map = generateBaseMap(default_location=[24.7241504,46.2620616])\n",
    "HeatMap(data=city_df[['lat', 'lon', 'non_driving']].groupby(['lat', 'lon']).count().reset_index().values.tolist(), radius=8, max_zoom=10).add_to(base_map)\n",
    "base_map"
   ]
  },
  {
   "cell_type": "code",
   "execution_count": null,
   "metadata": {},
   "outputs": [],
   "source": [
    "city_df = df[(df.city == \"Riyadh\")]\n",
    "base_map = generateBaseMap(default_location=[24.7241504,46.2620616])\n",
    "HeatMap(data=city_df[['lat', 'lon', 'non_driving']].groupby(['lat', 'lon']).count().reset_index().values.tolist(), radius=8, max_zoom=10).add_to(base_map)\n",
    "base_map"
   ]
  },
  {
   "cell_type": "markdown",
   "metadata": {},
   "source": [
    "#### NYC Grid"
   ]
  },
  {
   "cell_type": "code",
   "execution_count": null,
   "metadata": {},
   "outputs": [],
   "source": [
    "def get_geojson_grid(upper_right, lower_left, n=6):\n",
    "    \"\"\"Returns a grid of geojson rectangles, and computes the exposure in each section of the grid based on the vessel data.\n",
    "\n",
    "    Parameters\n",
    "    ----------\n",
    "    upper_right: array_like\n",
    "        The upper right hand corner of \"grid of grids\" (the default is the upper right hand [lat, lon] of the USA).\n",
    "\n",
    "    lower_left: array_like\n",
    "        The lower left hand corner of \"grid of grids\"  (the default is the lower left hand [lat, lon] of the USA).\n",
    "\n",
    "    n: integer\n",
    "        The number of rows/columns in the (n,n) grid.\n",
    "\n",
    "    Returns\n",
    "    -------\n",
    "\n",
    "    list\n",
    "        List of \"geojson style\" dictionary objects   \n",
    "    \"\"\"\n",
    "\n",
    "    all_boxes = []\n",
    "\n",
    "    lat_steps = np.linspace(lower_left[0], upper_right[0], n+1)\n",
    "    lon_steps = np.linspace(lower_left[1], upper_right[1], n+1)\n",
    "\n",
    "    lat_stride = lat_steps[1] - lat_steps[0]\n",
    "    lon_stride = lon_steps[1] - lon_steps[0]\n",
    "\n",
    "    for lat in lat_steps[:-1]:\n",
    "        for lon in lon_steps[:-1]:\n",
    "            # Define dimensions of box in grid\n",
    "            upper_left = [lon, lat + lat_stride]\n",
    "            upper_right = [lon + lon_stride, lat + lat_stride]\n",
    "            lower_right = [lon + lon_stride, lat]\n",
    "            lower_left = [lon, lat]\n",
    "\n",
    "            # Define json coordinates for polygon\n",
    "            coordinates = [\n",
    "                upper_left,\n",
    "                upper_right,\n",
    "                lower_right,\n",
    "                lower_left,\n",
    "                upper_left\n",
    "            ]\n",
    "\n",
    "            geo_json = {\"type\": \"FeatureCollection\",\n",
    "                        \"properties\":{\n",
    "                            \"lower_left\": lower_left,\n",
    "                            \"upper_right\": upper_right\n",
    "                        },\n",
    "                        \"features\":[]}\n",
    "\n",
    "            grid_feature = {\n",
    "                \"type\":\"Feature\",\n",
    "                \"geometry\":{\n",
    "                    \"type\":\"Polygon\",\n",
    "                    \"coordinates\": [coordinates],\n",
    "                }\n",
    "            }\n",
    "\n",
    "            geo_json[\"features\"].append(grid_feature)\n",
    "\n",
    "            all_boxes.append(geo_json)\n",
    "\n",
    "    return all_boxes"
   ]
  },
  {
   "cell_type": "code",
   "execution_count": null,
   "metadata": {},
   "outputs": [],
   "source": [
    "upper_right = [40.908600, -73.702201]\n",
    "lower_left = [40.495366, -74.247241]\n",
    "grid = get_geojson_grid(upper_right, lower_left, n=15)\n",
    "counts_array = []\n",
    "\n",
    "regional_counts = []\n",
    "\n",
    "for box in grid:\n",
    "    upper_right = box[\"properties\"][\"upper_right\"]\n",
    "    lower_left = box[\"properties\"][\"lower_left\"]\n",
    "\n",
    "    mask = (\n",
    "        (new_york_df.lat <= upper_right[1]) & (new_york_df.lat >= lower_left[1]) &\n",
    "        (new_york_df.lon <= upper_right[0]) & (new_york_df.lon >= lower_left[0])\n",
    "           )\n",
    "\n",
    "    region_incidents = len(new_york_df[mask])\n",
    "    regional_counts.append(region_incidents)"
   ]
  },
  {
   "cell_type": "code",
   "execution_count": null,
   "metadata": {},
   "outputs": [],
   "source": [
    "import branca\n",
    "worst_region = max(regional_counts)\n",
    "m = generateBaseMap()\n",
    "for i, box in enumerate(grid):\n",
    "    geo_json = json.dumps(box)\n",
    "\n",
    "    color = plt.cm.Reds(regional_counts[i] / worst_region)\n",
    "    color = matplotlib.colors.to_hex(color)\n",
    "\n",
    "    gj = folium.GeoJson(geo_json,\n",
    "                        style_function=lambda feature, color=color: {\n",
    "                                                                        'fillColor': color,\n",
    "                                                                        'color':\"black\",\n",
    "                                                                        'weight': 2,\n",
    "                                                                        'dashArray': '5, 5',\n",
    "                                                                        'fillOpacity': 0.55,\n",
    "                                                                    })\n",
    "\n",
    "    m.add_child(gj)"
   ]
  }
 ],
 "metadata": {
  "kernelspec": {
   "display_name": "Python 3",
   "language": "python",
   "name": "python3"
  },
  "language_info": {
   "codemirror_mode": {
    "name": "ipython",
    "version": 3
   },
   "file_extension": ".py",
   "mimetype": "text/x-python",
   "name": "python",
   "nbconvert_exporter": "python",
   "pygments_lexer": "ipython3",
   "version": "3.7.3"
  }
 },
 "nbformat": 4,
 "nbformat_minor": 2
}
